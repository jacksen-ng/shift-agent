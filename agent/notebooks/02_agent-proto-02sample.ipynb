{
 "cells": [
  {
   "cell_type": "markdown",
   "id": "39291b05",
   "metadata": {},
   "source": [
    "# 02 notebook\n",
    "\n",
    "02_sampleデータから，いい感じのシフトを作成できるような構造を作成 & チューニングをする．"
   ]
  },
  {
   "cell_type": "markdown",
   "id": "9e17e2c5",
   "metadata": {},
   "source": [
    "必要な処理\n",
    "\n",
    "- シフト生成\n",
    "- 従業員の希望を考慮する処理\n",
    "- 人件費を計算\n",
    "- 店舗のコメントを考慮する処理\n",
    "\n",
    "- 最適なシフトであるかを評価する処理\n",
    "    - 何かしらで定量化．\n",
    "シフトの出力，生成"
   ]
  },
  {
   "cell_type": "code",
   "execution_count": 1,
   "id": "ccda46f6",
   "metadata": {},
   "outputs": [
    {
     "data": {
      "text/plain": [
       "True"
      ]
     },
     "execution_count": 1,
     "metadata": {},
     "output_type": "execute_result"
    }
   ],
   "source": [
    "import os\n",
    "import json\n",
    "from dotenv import load_dotenv\n",
    "from google import genai\n",
    "from google.genai import types\n",
    "\n",
    "load_dotenv()"
   ]
  },
  {
   "cell_type": "code",
   "execution_count": 2,
   "id": "0a67dd41",
   "metadata": {},
   "outputs": [],
   "source": [
    "# key設定\n",
    "api_key = os.getenv('GEMINI_API')\n",
    "client = genai.Client(api_key=api_key)\n",
    "\n",
    "\n",
    "# ファイル読み込み\n",
    "with open('./../data/inputs/02_sample_prototype.json', 'r') as f:\n",
    "    input_json = json.loads(f.read())"
   ]
  },
  {
   "cell_type": "code",
   "execution_count": 3,
   "id": "06c23ab1",
   "metadata": {},
   "outputs": [],
   "source": [
    "input = input_json"
   ]
  },
  {
   "cell_type": "code",
   "execution_count": 4,
   "id": "5155acfa",
   "metadata": {},
   "outputs": [
    {
     "ename": "ValidationError",
     "evalue": "9 validation errors for _GenerateContentParameters\ncontents.list[union[Content,list[union[File,Part,str]],File,Part,str]]\n  Input should be a valid list [type=list_type, input_value={'company': {'company_id'..., 'finish': '23:00'}}}}}, input_type=dict]\n    For further information visit https://errors.pydantic.dev/2.11/v/list_type\ncontents.Content.company\n  Extra inputs are not permitted [type=extra_forbidden, input_value={'company_id': 1, 'open_t...せてください。'}, input_type=dict]\n    For further information visit https://errors.pydantic.dev/2.11/v/extra_forbidden\ncontents.Content.worker\n  Extra inputs are not permitted [type=extra_forbidden, input_value={'worker_1': {'user_id': ...', 'finish': '23:00'}}}}, input_type=dict]\n    For further information visit https://errors.pydantic.dev/2.11/v/extra_forbidden\ncontents.list[union[File,Part,str]]\n  Input should be a valid list [type=list_type, input_value={'company': {'company_id'..., 'finish': '23:00'}}}}}, input_type=dict]\n    For further information visit https://errors.pydantic.dev/2.11/v/list_type\ncontents.File.company\n  Extra inputs are not permitted [type=extra_forbidden, input_value={'company_id': 1, 'open_t...せてください。'}, input_type=dict]\n    For further information visit https://errors.pydantic.dev/2.11/v/extra_forbidden\ncontents.File.worker\n  Extra inputs are not permitted [type=extra_forbidden, input_value={'worker_1': {'user_id': ...', 'finish': '23:00'}}}}, input_type=dict]\n    For further information visit https://errors.pydantic.dev/2.11/v/extra_forbidden\ncontents.Part.company\n  Extra inputs are not permitted [type=extra_forbidden, input_value={'company_id': 1, 'open_t...せてください。'}, input_type=dict]\n    For further information visit https://errors.pydantic.dev/2.11/v/extra_forbidden\ncontents.Part.worker\n  Extra inputs are not permitted [type=extra_forbidden, input_value={'worker_1': {'user_id': ...', 'finish': '23:00'}}}}, input_type=dict]\n    For further information visit https://errors.pydantic.dev/2.11/v/extra_forbidden\ncontents.str\n  Input should be a valid string [type=string_type, input_value={'company': {'company_id'..., 'finish': '23:00'}}}}}, input_type=dict]\n    For further information visit https://errors.pydantic.dev/2.11/v/string_type",
     "output_type": "error",
     "traceback": [
      "\u001b[31m---------------------------------------------------------------------------\u001b[39m",
      "\u001b[31mValidationError\u001b[39m                           Traceback (most recent call last)",
      "\u001b[36mCell\u001b[39m\u001b[36m \u001b[39m\u001b[32mIn[4]\u001b[39m\u001b[32m, line 37\u001b[39m\n\u001b[32m      2\u001b[39m system_prompt = \u001b[33m\"\"\"\u001b[39m\n\u001b[32m      3\u001b[39m \u001b[33mあなたは、ユーザーからの多様なテキスト入力に対して、指定されたJSON形式のデータ構造を生成する、\u001b[39m\n\u001b[32m      4\u001b[39m \u001b[33m高度に専門化されたAIアシスタントです。\u001b[39m\n\u001b[32m   (...)\u001b[39m\u001b[32m     33\u001b[39m \u001b[33m**最初に明確に述べられた要望のみを抽出し、代替案は無視してください。**\u001b[39m\u001b[38;5;130;01m\\n\u001b[39;00m\u001b[38;5;130;01m\\n\u001b[39;00m\u001b[33m2.  **クルー評価の抽出**: \u001b[39m\u001b[38;5;130;01m\\n\u001b[39;00m\u001b[33m    * 「crew_Xの評価は、〜」というパターンを認識し、`crew_id`とそれに続く評価内容を`text`として抽出します。\u001b[39m\n\u001b[32m     34\u001b[39m \u001b[33m\"\"\"\u001b[39m\n\u001b[32m     36\u001b[39m \u001b[38;5;66;03m# モデル定義\u001b[39;00m\n\u001b[32m---> \u001b[39m\u001b[32m37\u001b[39m response = \u001b[43mclient\u001b[49m\u001b[43m.\u001b[49m\u001b[43mmodels\u001b[49m\u001b[43m.\u001b[49m\u001b[43mgenerate_content\u001b[49m\u001b[43m(\u001b[49m\n\u001b[32m     38\u001b[39m \u001b[43m    \u001b[49m\u001b[43mmodel\u001b[49m\u001b[43m=\u001b[49m\u001b[33;43m\"\u001b[39;49m\u001b[33;43mgemini-2.0-flash\u001b[39;49m\u001b[33;43m\"\u001b[39;49m\u001b[43m,\u001b[49m\n\u001b[32m     39\u001b[39m \u001b[43m    \u001b[49m\u001b[43mconfig\u001b[49m\u001b[43m=\u001b[49m\u001b[43mtypes\u001b[49m\u001b[43m.\u001b[49m\u001b[43mGenerateContentConfig\u001b[49m\u001b[43m(\u001b[49m\n\u001b[32m     40\u001b[39m \u001b[43m        \u001b[49m\u001b[43msystem_instruction\u001b[49m\u001b[43m=\u001b[49m\u001b[43msystem_prompt\u001b[49m\n\u001b[32m     41\u001b[39m \u001b[43m    \u001b[49m\u001b[43m)\u001b[49m\u001b[43m,\u001b[49m\n\u001b[32m     42\u001b[39m \u001b[43m    \u001b[49m\u001b[43mcontents\u001b[49m\u001b[43m=\u001b[49m\u001b[38;5;28;43minput\u001b[39;49m\u001b[43m,\u001b[49m\n\u001b[32m     43\u001b[39m \u001b[43m)\u001b[49m\n",
      "\u001b[36mFile \u001b[39m\u001b[32m~/mydir/shift-agent/agent/.venv/lib/python3.13/site-packages/google/genai/models.py:5977\u001b[39m, in \u001b[36mModels.generate_content\u001b[39m\u001b[34m(self, model, contents, config)\u001b[39m\n\u001b[32m   5975\u001b[39m \u001b[38;5;28;01mwhile\u001b[39;00m remaining_remote_calls_afc > \u001b[32m0\u001b[39m:\n\u001b[32m   5976\u001b[39m   i += \u001b[32m1\u001b[39m\n\u001b[32m-> \u001b[39m\u001b[32m5977\u001b[39m   response = \u001b[38;5;28;43mself\u001b[39;49m\u001b[43m.\u001b[49m\u001b[43m_generate_content\u001b[49m\u001b[43m(\u001b[49m\n\u001b[32m   5978\u001b[39m \u001b[43m      \u001b[49m\u001b[43mmodel\u001b[49m\u001b[43m=\u001b[49m\u001b[43mmodel\u001b[49m\u001b[43m,\u001b[49m\u001b[43m \u001b[49m\u001b[43mcontents\u001b[49m\u001b[43m=\u001b[49m\u001b[43mcontents\u001b[49m\u001b[43m,\u001b[49m\u001b[43m \u001b[49m\u001b[43mconfig\u001b[49m\u001b[43m=\u001b[49m\u001b[43mparsed_config\u001b[49m\n\u001b[32m   5979\u001b[39m \u001b[43m  \u001b[49m\u001b[43m)\u001b[49m\n\u001b[32m   5980\u001b[39m   logger.info(\u001b[33mf\u001b[39m\u001b[33m'\u001b[39m\u001b[33mAFC remote call \u001b[39m\u001b[38;5;132;01m{\u001b[39;00mi\u001b[38;5;132;01m}\u001b[39;00m\u001b[33m is done.\u001b[39m\u001b[33m'\u001b[39m)\n\u001b[32m   5981\u001b[39m   remaining_remote_calls_afc -= \u001b[32m1\u001b[39m\n",
      "\u001b[36mFile \u001b[39m\u001b[32m~/mydir/shift-agent/agent/.venv/lib/python3.13/site-packages/google/genai/models.py:4898\u001b[39m, in \u001b[36mModels._generate_content\u001b[39m\u001b[34m(self, model, contents, config)\u001b[39m\n\u001b[32m   4891\u001b[39m \u001b[38;5;28;01mdef\u001b[39;00m\u001b[38;5;250m \u001b[39m\u001b[34m_generate_content\u001b[39m(\n\u001b[32m   4892\u001b[39m     \u001b[38;5;28mself\u001b[39m,\n\u001b[32m   4893\u001b[39m     *,\n\u001b[32m   (...)\u001b[39m\u001b[32m   4896\u001b[39m     config: Optional[types.GenerateContentConfigOrDict] = \u001b[38;5;28;01mNone\u001b[39;00m,\n\u001b[32m   4897\u001b[39m ) -> types.GenerateContentResponse:\n\u001b[32m-> \u001b[39m\u001b[32m4898\u001b[39m   parameter_model = \u001b[43mtypes\u001b[49m\u001b[43m.\u001b[49m\u001b[43m_GenerateContentParameters\u001b[49m\u001b[43m(\u001b[49m\n\u001b[32m   4899\u001b[39m \u001b[43m      \u001b[49m\u001b[43mmodel\u001b[49m\u001b[43m=\u001b[49m\u001b[43mmodel\u001b[49m\u001b[43m,\u001b[49m\n\u001b[32m   4900\u001b[39m \u001b[43m      \u001b[49m\u001b[43mcontents\u001b[49m\u001b[43m=\u001b[49m\u001b[43mcontents\u001b[49m\u001b[43m,\u001b[49m\n\u001b[32m   4901\u001b[39m \u001b[43m      \u001b[49m\u001b[43mconfig\u001b[49m\u001b[43m=\u001b[49m\u001b[43mconfig\u001b[49m\u001b[43m,\u001b[49m\n\u001b[32m   4902\u001b[39m \u001b[43m  \u001b[49m\u001b[43m)\u001b[49m\n\u001b[32m   4904\u001b[39m   request_url_dict: Optional[\u001b[38;5;28mdict\u001b[39m[\u001b[38;5;28mstr\u001b[39m, \u001b[38;5;28mstr\u001b[39m]]\n\u001b[32m   4906\u001b[39m   \u001b[38;5;28;01mif\u001b[39;00m \u001b[38;5;28mself\u001b[39m._api_client.vertexai:\n",
      "\u001b[36mFile \u001b[39m\u001b[32m~/mydir/shift-agent/agent/.venv/lib/python3.13/site-packages/pydantic/main.py:253\u001b[39m, in \u001b[36mBaseModel.__init__\u001b[39m\u001b[34m(self, **data)\u001b[39m\n\u001b[32m    251\u001b[39m \u001b[38;5;66;03m# `__tracebackhide__` tells pytest and some other tools to omit this function from tracebacks\u001b[39;00m\n\u001b[32m    252\u001b[39m __tracebackhide__ = \u001b[38;5;28;01mTrue\u001b[39;00m\n\u001b[32m--> \u001b[39m\u001b[32m253\u001b[39m validated_self = \u001b[38;5;28;43mself\u001b[39;49m\u001b[43m.\u001b[49m\u001b[43m__pydantic_validator__\u001b[49m\u001b[43m.\u001b[49m\u001b[43mvalidate_python\u001b[49m\u001b[43m(\u001b[49m\u001b[43mdata\u001b[49m\u001b[43m,\u001b[49m\u001b[43m \u001b[49m\u001b[43mself_instance\u001b[49m\u001b[43m=\u001b[49m\u001b[38;5;28;43mself\u001b[39;49m\u001b[43m)\u001b[49m\n\u001b[32m    254\u001b[39m \u001b[38;5;28;01mif\u001b[39;00m \u001b[38;5;28mself\u001b[39m \u001b[38;5;129;01mis\u001b[39;00m \u001b[38;5;129;01mnot\u001b[39;00m validated_self:\n\u001b[32m    255\u001b[39m     warnings.warn(\n\u001b[32m    256\u001b[39m         \u001b[33m'\u001b[39m\u001b[33mA custom validator is returning a value other than `self`.\u001b[39m\u001b[38;5;130;01m\\n\u001b[39;00m\u001b[33m'\u001b[39m\n\u001b[32m    257\u001b[39m         \u001b[33m\"\u001b[39m\u001b[33mReturning anything other than `self` from a top level model validator isn\u001b[39m\u001b[33m'\u001b[39m\u001b[33mt supported when validating via `__init__`.\u001b[39m\u001b[38;5;130;01m\\n\u001b[39;00m\u001b[33m\"\u001b[39m\n\u001b[32m    258\u001b[39m         \u001b[33m'\u001b[39m\u001b[33mSee the `model_validator` docs (https://docs.pydantic.dev/latest/concepts/validators/#model-validators) for more details.\u001b[39m\u001b[33m'\u001b[39m,\n\u001b[32m    259\u001b[39m         stacklevel=\u001b[32m2\u001b[39m,\n\u001b[32m    260\u001b[39m     )\n",
      "\u001b[31mValidationError\u001b[39m: 9 validation errors for _GenerateContentParameters\ncontents.list[union[Content,list[union[File,Part,str]],File,Part,str]]\n  Input should be a valid list [type=list_type, input_value={'company': {'company_id'..., 'finish': '23:00'}}}}}, input_type=dict]\n    For further information visit https://errors.pydantic.dev/2.11/v/list_type\ncontents.Content.company\n  Extra inputs are not permitted [type=extra_forbidden, input_value={'company_id': 1, 'open_t...せてください。'}, input_type=dict]\n    For further information visit https://errors.pydantic.dev/2.11/v/extra_forbidden\ncontents.Content.worker\n  Extra inputs are not permitted [type=extra_forbidden, input_value={'worker_1': {'user_id': ...', 'finish': '23:00'}}}}, input_type=dict]\n    For further information visit https://errors.pydantic.dev/2.11/v/extra_forbidden\ncontents.list[union[File,Part,str]]\n  Input should be a valid list [type=list_type, input_value={'company': {'company_id'..., 'finish': '23:00'}}}}}, input_type=dict]\n    For further information visit https://errors.pydantic.dev/2.11/v/list_type\ncontents.File.company\n  Extra inputs are not permitted [type=extra_forbidden, input_value={'company_id': 1, 'open_t...せてください。'}, input_type=dict]\n    For further information visit https://errors.pydantic.dev/2.11/v/extra_forbidden\ncontents.File.worker\n  Extra inputs are not permitted [type=extra_forbidden, input_value={'worker_1': {'user_id': ...', 'finish': '23:00'}}}}, input_type=dict]\n    For further information visit https://errors.pydantic.dev/2.11/v/extra_forbidden\ncontents.Part.company\n  Extra inputs are not permitted [type=extra_forbidden, input_value={'company_id': 1, 'open_t...せてください。'}, input_type=dict]\n    For further information visit https://errors.pydantic.dev/2.11/v/extra_forbidden\ncontents.Part.worker\n  Extra inputs are not permitted [type=extra_forbidden, input_value={'worker_1': {'user_id': ...', 'finish': '23:00'}}}}, input_type=dict]\n    For further information visit https://errors.pydantic.dev/2.11/v/extra_forbidden\ncontents.str\n  Input should be a valid string [type=string_type, input_value={'company': {'company_id'..., 'finish': '23:00'}}}}}, input_type=dict]\n    For further information visit https://errors.pydantic.dev/2.11/v/string_type"
     ]
    }
   ],
   "source": [
    "# systemprompt\n",
    "system_prompt = \"\"\"\n",
    "あなたは、ユーザーからの多様なテキスト入力に対して、指定されたJSON形式のデータ構造を生成する、\n",
    "高度に専門化されたAIアシスタントです。\n",
    "あなたの最優先事項は、ユーザーの意図を正確に解釈し、指定されたスキーマに従って、\n",
    "**厳密にJSON形式のデータのみを出力すること**です。\n",
    "出力に余計な説明、前置き、後書き、または非JSON形式のテキストを一切含めないでください。\n",
    "ユーザーの指示に不明瞭な点がある場合は、最も合理的な解釈に基づいて処理を進めてください。\n",
    "\\n\\n## 出力形式の厳守\n",
    "\\n\\n* 常に有効なJSONを生成してください。\n",
    "\\n* JSONのキーと値は、指定されたデータ型と形式に厳密に従ってください。\n",
    "\\n* 数値、日付、時刻などのデータは、指定されたフォーマットで出力してください。\n",
    "\\n\\n## 日付と時刻の処理に関する指示\\n\\n日付や時刻に関する情報がテキストに含まれる場合、\n",
    "適切な日付（YYYY-MM-DD）や時刻（HH:MM）に変換してください。\n",
    "特に「来週」などの相対的な表現は、コンテキストに基づいて絶対日付に変換してください。\n",
    "\n",
    "あなたは、従業員のシフト要望とクルー評価を含むテキストから、\n",
    "以下のJSONスキーマに従ってデータを抽出する専門家です。\n",
    "汎用的な指示に加えて、以下の具体的なルールと例に厳密に従って作業してください。\n",
    "\\n\\n## 出力JSONスキーマ\\n\\n```json\\n{\\n  \\\"shift_requests\\\": [\\n    {\\n      \\\"crew_id\\\": \\\"string\\\",\\n      \\\"day\\\": \\\"YYYY-MM-DD\\\",\\n      \\\"start_time\\\": \\\"HH:MM または '休み'\\\",\\n      \\\"finish_time\\\": \\\"HH:MM または '休み'\\\"\\n    }\\n  ],\\n  \\\"crew_evaluations\\\": [\\n    {\\n      \\\"crew_id\\\": \\\"string\\\",\\n      \\\"text\\\": \\\"string\\\"\\n    }\\n  ]\\n}\\n```\\n\\n## 抽出ルール\\n\\n1.  **シフト要望の抽出**: \\n\n",
    "* `crew_id` は「crew_X」という表記から抽出します。\\n\n",
    "* **日付の変換**: 「MM月DD日」のような形式の日付は、コンテキストに基づいて日付に変換し、\n",
    "`YYYY-MM-DD`形式で記述してください。\\n\n",
    "* **時刻の解釈と変換**: \\n\n",
    "* 「フルタイム」: 9時から18時\\n\n",
    "* 「午前中のみ」: 9時から13時\\n\n",
    "* 「午後から」: 13時から20時\\n\n",
    "* 「遅番」: 15時から22時\\n\n",
    "* 「通常通り」: 10時から19時\\n\n",
    "* 具体的な時間指定（例: 「9時から18時まで」）があれば、上記のデフォルトよりも優先してください。\\n\n",
    "* 「終日休み」と明記されている場合は、`start_time`と`finish_time`を共に「休み」と記述してください。\\n\n",
    "* **代替案の無視**: シフトの要望で複数の選択肢や代替案が提示された場合（例：「もし難しければ、〜も検討できます」）、\n",
    "**最初に明確に述べられた要望のみを抽出し、代替案は無視してください。**\\n\\n2.  **クルー評価の抽出**: \\n    * 「crew_Xの評価は、〜」というパターンを認識し、`crew_id`とそれに続く評価内容を`text`として抽出します。\n",
    "\"\"\"\n",
    "\n",
    "# モデル定義\n",
    "response = client.models.generate_content(\n",
    "    model=\"gemini-2.0-flash\",\n",
    "    config=types.GenerateContentConfig(\n",
    "        system_instruction=system_prompt\n",
    "    ),\n",
    "    contents=input,\n",
    ")"
   ]
  },
  {
   "cell_type": "code",
   "execution_count": null,
   "id": "da91a4f3",
   "metadata": {},
   "outputs": [
    {
     "name": "stdout",
     "output_type": "stream",
     "text": [
      "```json\n",
      "{\n",
      "  \"shift_requests\": [\n",
      "    {\n",
      "      \"crew_id\": \"crew_1\",\n",
      "      \"day\": \"2024-06-16\",\n",
      "      \"start_time\": \"09:00\",\n",
      "      \"finish_time\": \"18:00\"\n",
      "    },\n",
      "    {\n",
      "      \"crew_id\": \"crew_1\",\n",
      "      \"day\": \"2024-06-18\",\n",
      "      \"start_time\": \"09:00\",\n",
      "      \"finish_time\": \"18:00\"\n",
      "    },\n",
      "    {\n",
      "      \"crew_id\": \"crew_1\",\n",
      "      \"day\": \"2024-06-17\",\n",
      "      \"start_time\": \"13:00\",\n",
      "      \"finish_time\": \"20:00\"\n",
      "    },\n",
      "    {\n",
      "      \"crew_id\": \"crew_1\",\n",
      "      \"day\": \"2024-06-19\",\n",
      "      \"start_time\": \"09:00\",\n",
      "      \"finish_time\": \"13:00\"\n",
      "    },\n",
      "    {\n",
      "      \"crew_id\": \"crew_1\",\n",
      "      \"day\": \"2024-06-20\",\n",
      "      \"start_time\": \"休み\",\n",
      "      \"finish_time\": \"休み\"\n",
      "    },\n",
      "    {\n",
      "      \"crew_id\": \"crew_2\",\n",
      "      \"day\": \"2024-06-16\",\n",
      "      \"start_time\": \"09:00\",\n",
      "      \"finish_time\": \"13:00\"\n",
      "    },\n",
      "    {\n",
      "      \"crew_id\": \"crew_2\",\n",
      "      \"day\": \"2024-06-17\",\n",
      "      \"start_time\": \"09:00\",\n",
      "      \"finish_time\": \"13:00\"\n",
      "    },\n",
      "    {\n",
      "      \"crew_id\": \"crew_2\",\n",
      "      \"day\": \"2024-06-18\",\n",
      "      \"start_time\": \"休み\",\n",
      "      \"finish_time\": \"休み\"\n",
      "    },\n",
      "    {\n",
      "      \"crew_id\": \"crew_2\",\n",
      "      \"day\": \"2024-06-19\",\n",
      "      \"start_time\": \"15:00\",\n",
      "      \"finish_time\": \"22:00\"\n",
      "    },\n",
      "    {\n",
      "      \"crew_id\": \"crew_2\",\n",
      "      \"day\": \"2024-06-20\",\n",
      "      \"start_time\": \"10:00\",\n",
      "      \"finish_time\": \"19:00\"\n",
      "    },\n",
      "    {\n",
      "      \"crew_id\": \"crew_3\",\n",
      "      \"day\": \"2024-06-16\",\n",
      "      \"start_time\": \"09:00\",\n",
      "      \"finish_time\": \"17:00\"\n",
      "    },\n",
      "    {\n",
      "      \"crew_id\": \"crew_3\",\n",
      "      \"day\": \"2024-06-18\",\n",
      "      \"start_time\": \"09:00\",\n",
      "      \"finish_time\": \"17:00\"\n",
      "    },\n",
      "    {\n",
      "      \"crew_id\": \"crew_3\",\n",
      "      \"day\": \"2024-06-20\",\n",
      "      \"start_time\": \"09:00\",\n",
      "      \"finish_time\": \"17:00\"\n",
      "    }\n",
      "  ],\n",
      "  \"crew_evaluations\": [\n",
      "    {\n",
      "      \"crew_id\": \"crew_1\",\n",
      "      \"text\": \"ホールが1人前になってきた。\"\n",
      "    },\n",
      "    {\n",
      "      \"crew_id\": \"crew_2\",\n",
      "      \"text\": \"ワンオペ問題なし。\"\n",
      "    },\n",
      "    {\n",
      "      \"crew_id\": \"crew_3\",\n",
      "      \"text\": \"研修中です。\"\n",
      "    }\n",
      "  ]\n",
      "}\n",
      "```\n"
     ]
    }
   ],
   "source": [
    "print(response.text)"
   ]
  },
  {
   "cell_type": "code",
   "execution_count": null,
   "id": "0370f64a",
   "metadata": {},
   "outputs": [],
   "source": []
  }
 ],
 "metadata": {
  "kernelspec": {
   "display_name": "shift-agent",
   "language": "python",
   "name": "python3"
  },
  "language_info": {
   "codemirror_mode": {
    "name": "ipython",
    "version": 3
   },
   "file_extension": ".py",
   "mimetype": "text/x-python",
   "name": "python",
   "nbconvert_exporter": "python",
   "pygments_lexer": "ipython3",
   "version": "3.13.3"
  }
 },
 "nbformat": 4,
 "nbformat_minor": 5
}
